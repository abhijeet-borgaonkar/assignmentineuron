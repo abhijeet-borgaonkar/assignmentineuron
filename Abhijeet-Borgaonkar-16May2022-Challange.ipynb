{
 "cells": [
  {
   "cell_type": "markdown",
   "id": "91d627ce",
   "metadata": {},
   "source": [
    "# Assignment - Abhijeet Borgaonkar "
   ]
  },
  {
   "cell_type": "code",
   "execution_count": 1,
   "id": "1f6d73a2",
   "metadata": {},
   "outputs": [],
   "source": [
    "s = \"this is My First Python programming class and i am learNING python string and its function\"\n"
   ]
  },
  {
   "cell_type": "markdown",
   "id": "79139810",
   "metadata": {},
   "source": [
    "###### 1 . Try to extract data from index one to index 300 with a jump of 3 "
   ]
  },
  {
   "cell_type": "code",
   "execution_count": 2,
   "id": "df0c37d5",
   "metadata": {},
   "outputs": [
    {
     "data": {
      "text/plain": [
       "'h   r tnrrmglsnimeNGyosi dtfco'"
      ]
     },
     "execution_count": 2,
     "metadata": {},
     "output_type": "execute_result"
    }
   ],
   "source": [
    "s[1:300:3]"
   ]
  },
  {
   "cell_type": "markdown",
   "id": "916c5050",
   "metadata": {},
   "source": [
    "##### 2. Try to reverse a string without using reverse function "
   ]
  },
  {
   "cell_type": "code",
   "execution_count": 3,
   "id": "c754a461",
   "metadata": {},
   "outputs": [
    {
     "data": {
      "text/plain": [
       "'noitcnuf sti dna gnirts nohtyp GNINrael ma i dna ssalc gnimmargorp nohtyP tsriF yM si siht'"
      ]
     },
     "execution_count": 3,
     "metadata": {},
     "output_type": "execute_result"
    }
   ],
   "source": [
    "s[::-1]"
   ]
  },
  {
   "cell_type": "markdown",
   "id": "3b62c61c",
   "metadata": {},
   "source": [
    "##### 3. Try to split a string after conversion of entire string in uppercase "
   ]
  },
  {
   "cell_type": "code",
   "execution_count": 4,
   "id": "54fe67d9",
   "metadata": {},
   "outputs": [
    {
     "data": {
      "text/plain": [
       "['THIS',\n",
       " 'IS',\n",
       " 'MY',\n",
       " 'FIRST',\n",
       " 'PYTHON',\n",
       " 'PROGRAMMING',\n",
       " 'CLASS',\n",
       " 'AND',\n",
       " 'I',\n",
       " 'AM',\n",
       " 'LEARNING',\n",
       " 'PYTHON',\n",
       " 'STRING',\n",
       " 'AND',\n",
       " 'ITS',\n",
       " 'FUNCTION']"
      ]
     },
     "execution_count": 4,
     "metadata": {},
     "output_type": "execute_result"
    }
   ],
   "source": [
    "s.upper().split()"
   ]
  },
  {
   "cell_type": "markdown",
   "id": "d081aaca",
   "metadata": {},
   "source": [
    "##### 4. try to convert the whole string into lower case "
   ]
  },
  {
   "cell_type": "code",
   "execution_count": 5,
   "id": "dff39f1c",
   "metadata": {},
   "outputs": [
    {
     "data": {
      "text/plain": [
       "'this is my first python programming class and i am learning python string and its function'"
      ]
     },
     "execution_count": 5,
     "metadata": {},
     "output_type": "execute_result"
    }
   ],
   "source": [
    "s.lower()"
   ]
  },
  {
   "cell_type": "markdown",
   "id": "c8877fdf",
   "metadata": {},
   "source": [
    "##### 5 . Try to capitalize the whole string "
   ]
  },
  {
   "cell_type": "code",
   "execution_count": 6,
   "id": "36663bbe",
   "metadata": {},
   "outputs": [
    {
     "data": {
      "text/plain": [
       "'This is my first python programming class and i am learning python string and its function'"
      ]
     },
     "execution_count": 6,
     "metadata": {},
     "output_type": "execute_result"
    }
   ],
   "source": [
    "s.capitalize()"
   ]
  },
  {
   "cell_type": "markdown",
   "id": "d8518fb7",
   "metadata": {},
   "source": [
    "##### 7. Try to give an example of expand tab"
   ]
  },
  {
   "cell_type": "code",
   "execution_count": 7,
   "id": "fb95599a",
   "metadata": {},
   "outputs": [
    {
     "data": {
      "text/plain": [
       "'how     To      expand  dtabs   in      phython'"
      ]
     },
     "execution_count": 7,
     "metadata": {},
     "output_type": "execute_result"
    }
   ],
   "source": [
    "s=\"how\\tTo\\texpand\\tdtabs\\tin\\tphython\"\n",
    "s.expandtabs()"
   ]
  },
  {
   "cell_type": "markdown",
   "id": "4ef64a8b",
   "metadata": {},
   "source": [
    "##### 8. Give an example of strip , lstrip and rstrip "
   ]
  },
  {
   "cell_type": "code",
   "execution_count": 8,
   "id": "9532d604",
   "metadata": {},
   "outputs": [
    {
     "name": "stdout",
     "output_type": "stream",
     "text": [
      "Saanvi\n",
      "Saanvi  \n",
      "   Saanvi\n"
     ]
    }
   ],
   "source": [
    "s=\"   Saanvi  \"\n",
    "a=s.strip()\n",
    "b=s.lstrip()\n",
    "c=s.rstrip()\n",
    "print(a)\n",
    "print(b)\n",
    "print(c)"
   ]
  },
  {
   "cell_type": "markdown",
   "id": "00c6e8d9",
   "metadata": {},
   "source": [
    "##### 9. Replace a string charecter by another charector by taking your own example "
   ]
  },
  {
   "cell_type": "code",
   "execution_count": 9,
   "id": "d157cb6b",
   "metadata": {},
   "outputs": [
    {
     "data": {
      "text/plain": [
       "'SPPnvi BorgPonkPr'"
      ]
     },
     "execution_count": 9,
     "metadata": {},
     "output_type": "execute_result"
    }
   ],
   "source": [
    "s=\"Saanvi Borgaonkar\"\n",
    "s.replace(\"a\",\"P\")"
   ]
  },
  {
   "cell_type": "markdown",
   "id": "3d3830d1",
   "metadata": {},
   "source": [
    "##### 10 . Try  to give a definition of string center function with and exmple "
   ]
  },
  {
   "cell_type": "code",
   "execution_count": 10,
   "id": "f1d0a929",
   "metadata": {},
   "outputs": [
    {
     "data": {
      "text/plain": [
       "'*** Vande Matram ***'"
      ]
     },
     "execution_count": 10,
     "metadata": {},
     "output_type": "execute_result"
    }
   ],
   "source": [
    "s=\" Vande Matram \"\n",
    "s.center(20,\"*\")"
   ]
  },
  {
   "cell_type": "markdown",
   "id": "24576b97",
   "metadata": {},
   "source": [
    "##### 11. Write your own definition of compiler and interpretor without copy paste form internet in your own language\n",
    "\n"
   ]
  },
  {
   "cell_type": "markdown",
   "id": "cb6b5981",
   "metadata": {},
   "source": [
    "# Ans11--> Interpretor works line by line and compiler acts on whole code at time  "
   ]
  },
  {
   "cell_type": "code",
   "execution_count": null,
   "id": "8eb1cc4c",
   "metadata": {},
   "outputs": [],
   "source": []
  }
 ],
 "metadata": {
  "kernelspec": {
   "display_name": "Python 3 (ipykernel)",
   "language": "python",
   "name": "python3"
  },
  "language_info": {
   "codemirror_mode": {
    "name": "ipython",
    "version": 3
   },
   "file_extension": ".py",
   "mimetype": "text/x-python",
   "name": "python",
   "nbconvert_exporter": "python",
   "pygments_lexer": "ipython3",
   "version": "3.9.7"
  }
 },
 "nbformat": 4,
 "nbformat_minor": 5
}
